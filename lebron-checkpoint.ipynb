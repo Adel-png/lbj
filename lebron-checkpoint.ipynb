{
 "cells": [
  {
   "cell_type": "code",
   "execution_count": 103,
   "metadata": {},
   "outputs": [],
   "source": [
    "import pandas as pd \n",
    "import numpy as np\n",
    "import os\n",
    "%matplotlib inline\n",
    "import matplotlib.pyplot as plt\n",
    "ldir = os.chdir(r'C:\\Users\\Adel\\Desktop\\MI_projekt')"
   ]
  },
  {
   "cell_type": "code",
   "execution_count": 104,
   "metadata": {},
   "outputs": [],
   "source": [
    "df = pd.read_csv('lebron_career.csv',index_col='date',parse_dates=True)"
   ]
  },
  {
   "cell_type": "code",
   "execution_count": 105,
   "metadata": {},
   "outputs": [],
   "source": [
    "df=df.fillna(0)                                    #Adattisztítás\n",
    "df['result_'] = [x[0] for x in df['result']]\n",
    "df['age_'] = [x[:2] for x in df['age']]\n",
    "df['age_'] = df['age_'].astype(int)\n",
    "df.drop(['game','age','result'],axis='columns', inplace=True)"
   ]
  },
  {
   "cell_type": "code",
   "execution_count": 106,
   "metadata": {},
   "outputs": [
    {
     "data": {
      "text/plain": [
       "CLE    849\n",
       "MIA    294\n",
       "LAL    122\n",
       "Name: team, dtype: int64"
      ]
     },
     "execution_count": 106,
     "metadata": {},
     "output_type": "execute_result"
    }
   ],
   "source": [
    "df['team'].value_counts() #hol hány meccset játszott"
   ]
  },
  {
   "cell_type": "code",
   "execution_count": 107,
   "metadata": {},
   "outputs": [
    {
     "data": {
      "text/plain": [
       "team\n",
       "CLE    21.998704\n",
       "LAL    22.133607\n",
       "MIA    22.914626\n",
       "Name: game_score, dtype: float64"
      ]
     },
     "execution_count": 107,
     "metadata": {},
     "output_type": "execute_result"
    }
   ],
   "source": [
    "df.groupby('team')['game_score'].mean() #mennyire volt eredményes egyes csapatoknál"
   ]
  },
  {
   "cell_type": "code",
   "execution_count": 108,
   "metadata": {},
   "outputs": [
    {
     "data": {
      "text/plain": [
       "team  result_\n",
       "CLE   W          546\n",
       "      L          303\n",
       "LAL   W           78\n",
       "      L           44\n",
       "MIA   W          215\n",
       "      L           79\n",
       "Name: result_, dtype: int64"
      ]
     },
     "execution_count": 108,
     "metadata": {},
     "output_type": "execute_result"
    }
   ],
   "source": [
    "df.groupby('team')['result_'].value_counts() #hol nyerte a legtöbb meccset"
   ]
  },
  {
   "cell_type": "code",
   "execution_count": 109,
   "metadata": {},
   "outputs": [
    {
     "data": {
      "image/png": "[encoded data removed]",
      "text/plain": [
       "<Figure size 432x288 with 1 Axes>"
      ]
     },
     "metadata": {
      "needs_background": "light"
     },
     "output_type": "display_data"
    }
   ],
   "source": [
    "df.groupby('team')['result_'].value_counts().unstack().plot(kind='bar', stacked=True) #ábrázolás\n",
    "plt.title(\"Nyerési arány csapatonként\")\n",
    "plt.show()"
   ]
  },
  {
   "cell_type": "code",
   "execution_count": 110,
   "metadata": {},
   "outputs": [
    {
     "data": {
      "text/plain": [
       "opp\n",
       "CHI    26\n",
       "BOS    22\n",
       "IND    22\n",
       "ORL    20\n",
       "DET    20\n",
       "WAS    19\n",
       "HOU    18\n",
       "DEN    17\n",
       "MIL    17\n",
       "SAS    17\n",
       "ATL    16\n",
       "MIA    16\n",
       "NYK    16\n",
       "TOR    14\n",
       "GSW    13\n",
       "PHI    13\n",
       "UTA    12\n",
       "MEM    12\n",
       "DAL    12\n",
       "LAC    11\n",
       "POR    11\n",
       "PHO    10\n",
       "NJN    10\n",
       "BRK    10\n",
       "SAC     8\n",
       "LAL     8\n",
       "MIN     7\n",
       "OKC     6\n",
       "NOP     6\n",
       "NOH     5\n",
       "CHA     5\n",
       "SEA     4\n",
       "NOK     1\n",
       "CLE     1\n",
       "CHO     1\n",
       "Name: result_, dtype: int64"
      ]
     },
     "execution_count": 110,
     "metadata": {},
     "output_type": "execute_result"
    }
   ],
   "source": [
    "df.groupby(['opp'])['result_'].apply(lambda x: x[x.str.contains('L')].count()).sort_values(ascending=False) #melyik csapat ellen vesztett a legtöbbet"
   ]
  },
  {
   "cell_type": "code",
   "execution_count": 111,
   "metadata": {},
   "outputs": [
    {
     "data": {
      "image/png": "[encoded data removed]",
      "text/plain": [
       "<Figure size 432x288 with 1 Axes>"
      ]
     },
     "metadata": {
      "needs_background": "light"
     },
     "output_type": "display_data"
    }
   ],
   "source": [
    "df.groupby(['opp'])['result_'].apply(lambda x: x[x.str.contains('L')].count()).plot(kind='bar')#ábrázolás\n",
    "plt.title(\"Vesztett meccsek száma\")\n",
    "plt.show()"
   ]
  },
  {
   "cell_type": "code",
   "execution_count": 112,
   "metadata": {},
   "outputs": [
    {
     "data": {
      "text/plain": [
       "mp    38.395257\n",
       "dtype: float64"
      ]
     },
     "execution_count": 112,
     "metadata": {},
     "output_type": "execute_result"
    }
   ],
   "source": [
    "df[['mp']].mean() #pályán töltött idő"
   ]
  },
  {
   "cell_type": "code",
   "execution_count": 113,
   "metadata": {},
   "outputs": [
    {
     "data": {
      "text/plain": [
       "mp    79.990119\n",
       "dtype: float64"
      ]
     },
     "execution_count": 113,
     "metadata": {},
     "output_type": "execute_result"
    }
   ],
   "source": [
    "df[['mp']].mean() * 100 / 48 #százalékban"
   ]
  },
  {
   "cell_type": "code",
   "execution_count": 114,
   "metadata": {},
   "outputs": [
    {
     "data": {
      "text/plain": [
       "age_\n",
       "23    24.272152\n",
       "32    24.139506\n",
       "24    24.042857\n",
       "28    24.035065\n",
       "26    24.020833\n",
       "25    23.854545\n",
       "33    22.948148\n",
       "21    22.792500\n",
       "20    22.762821\n",
       "27    22.695402\n",
       "34    22.332075\n",
       "29    21.793506\n",
       "31    21.598667\n",
       "35    21.557143\n",
       "22    21.222368\n",
       "30    19.471014\n",
       "19    17.051948\n",
       "18    14.306452\n",
       "Name: game_score, dtype: float64"
      ]
     },
     "execution_count": 114,
     "metadata": {},
     "output_type": "execute_result"
    }
   ],
   "source": [
    "df.groupby('age_')['game_score'].mean().sort_values(ascending=False) #hány évesen volt a kerrierje csúcsán"
   ]
  },
  {
   "cell_type": "code",
   "execution_count": 115,
   "metadata": {},
   "outputs": [
    {
     "data": {
      "text/plain": [
       "ftp    0.720274\n",
       "dtype: float64"
      ]
     },
     "execution_count": 115,
     "metadata": {},
     "output_type": "execute_result"
    }
   ],
   "source": [
    "df[['ftp']].mean() #büntető dobások sikeressége"
   ]
  },
  {
   "cell_type": "code",
   "execution_count": 116,
   "metadata": {},
   "outputs": [
    {
     "data": {
      "text/plain": [
       "fgp    0.504983\n",
       "dtype: float64"
      ]
     },
     "execution_count": 116,
     "metadata": {},
     "output_type": "execute_result"
    }
   ],
   "source": [
    "df[['fgp']].mean() #2 pontos dobások sikeressége"
   ]
  },
  {
   "cell_type": "code",
   "execution_count": 117,
   "metadata": {},
   "outputs": [
    {
     "data": {
      "text/plain": [
       "threep    0.300713\n",
       "dtype: float64"
      ]
     },
     "execution_count": 117,
     "metadata": {},
     "output_type": "execute_result"
    }
   ],
   "source": [
    "df[['threep']].mean() #3 pontos dobások sikeressége"
   ]
  },
  {
   "cell_type": "code",
   "execution_count": 118,
   "metadata": {},
   "outputs": [
    {
     "data": {
      "text/plain": [
       "pts    34241\n",
       "dtype: int64"
      ]
     },
     "execution_count": 118,
     "metadata": {},
     "output_type": "execute_result"
    }
   ],
   "source": [
    "df[['pts']].sum() #összes pont a karrierje sorrán"
   ]
  },
  {
   "cell_type": "code",
   "execution_count": 119,
   "metadata": {},
   "outputs": [
    {
     "data": {
      "image/png": "[encoded data removed]",
      "text/plain": [
       "<Figure size 432x288 with 1 Axes>"
      ]
     },
     "metadata": {},
     "output_type": "display_data"
    }
   ],
   "source": [
    "values=[df['ft'].sum(), df['fg'].sum()*2, df['three'].sum()*3] #összes pont eloszlása dobások szerint\n",
    "labels = [\"Büntetők\",\"2 pontos dobások\",\"3 pontos dobások\"]\n",
    "plt.pie(values, labels=labels, autopct='%.2f%%')\n",
    "plt.title(\"Összes pont %-os megoszlása\")\n",
    "plt.show()"
   ]
  },
  {
   "cell_type": "code",
   "execution_count": 120,
   "metadata": {},
   "outputs": [
    {
     "data": {
      "text/plain": [
       "orb    1.192885\n",
       "dtype: float64"
      ]
     },
     "execution_count": 120,
     "metadata": {},
     "output_type": "execute_result"
    }
   ],
   "source": [
    "df[['orb']].mean() #átlagos támadói labdaszerzés"
   ]
  },
  {
   "cell_type": "code",
   "execution_count": 121,
   "metadata": {},
   "outputs": [
    {
     "data": {
      "text/plain": [
       "drb    6.241897\n",
       "dtype: float64"
      ]
     },
     "execution_count": 121,
     "metadata": {},
     "output_type": "execute_result"
    }
   ],
   "source": [
    "df[['drb']].mean() #átlagos védekezői labdaszerzés"
   ]
  },
  {
   "cell_type": "code",
   "execution_count": 122,
   "metadata": {},
   "outputs": [
    {
     "data": {
      "image/png": "[encoded data removed]",
      "text/plain": [
       "<Figure size 432x288 with 1 Axes>"
      ]
     },
     "metadata": {},
     "output_type": "display_data"
    }
   ],
   "source": [
    "values=[df['orb'].sum(), df['drb'].sum()] #összes labdaszerzés eloszlása \n",
    "labels = [\"támadói labdaszerzés\",\"védekezői labdaszerzés\"]\n",
    "plt.pie(values, labels=labels, autopct='%.2f%%')\n",
    "plt.title(\"Összes labdaszerzés %-os megoszlása\")\n",
    "plt.show()"
   ]
  },
  {
   "cell_type": "code",
   "execution_count": 123,
   "metadata": {},
   "outputs": [
    {
     "data": {
      "text/plain": [
       "ast    7.388142\n",
       "dtype: float64"
      ]
     },
     "execution_count": 123,
     "metadata": {},
     "output_type": "execute_result"
    }
   ],
   "source": [
    "df[['ast']].mean() #átlagos asszisztok egy meccs alatt"
   ]
  },
  {
   "cell_type": "code",
   "execution_count": 124,
   "metadata": {},
   "outputs": [
    {
     "data": {
      "text/plain": [
       "stl    1.592885\n",
       "dtype: float64"
      ]
     },
     "execution_count": 124,
     "metadata": {},
     "output_type": "execute_result"
    }
   ],
   "source": [
    "df[['stl']].mean() #átlagos labdalopások egy meccs alatt"
   ]
  },
  {
   "cell_type": "code",
   "execution_count": 125,
   "metadata": {},
   "outputs": [
    {
     "data": {
      "text/plain": [
       "blk    0.756522\n",
       "dtype: float64"
      ]
     },
     "execution_count": 125,
     "metadata": {},
     "output_type": "execute_result"
    }
   ],
   "source": [
    "df[['blk']].mean() #átlagos blokkolások egy meccs alatt"
   ]
  },
  {
   "cell_type": "code",
   "execution_count": 126,
   "metadata": {},
   "outputs": [
    {
     "data": {
      "text/plain": [
       "tov    3.497233\n",
       "dtype: float64"
      ]
     },
     "execution_count": 126,
     "metadata": {},
     "output_type": "execute_result"
    }
   ],
   "source": [
    "df[['tov']].mean() #átlagos labdavesztések egy meccs alatt"
   ]
  },
  {
   "cell_type": "code",
   "execution_count": 127,
   "metadata": {},
   "outputs": [
    {
     "data": {
      "text/plain": [
       "game_score    53.2\n",
       "dtype: float64"
      ]
     },
     "execution_count": 127,
     "metadata": {},
     "output_type": "execute_result"
    }
   ],
   "source": [
    "df[['game_score']].max() #legnagyobb game_score a legsikeresebb meccshez"
   ]
  },
  {
   "cell_type": "code",
   "execution_count": 128,
   "metadata": {},
   "outputs": [
    {
     "data": {
      "text/html": [
       "<div>\n",
       "<style scoped>\n",
       "    .dataframe tbody tr th:only-of-type {\n",
       "        vertical-align: middle;\n",
       "    }\n",
       "\n",
       "    .dataframe tbody tr th {\n",
       "        vertical-align: top;\n",
       "    }\n",
       "\n",
       "    .dataframe thead th {\n",
       "        text-align: right;\n",
       "    }\n",
       "</style>\n",
       "<table border=\"1\" class=\"dataframe\">\n",
       "  <thead>\n",
       "    <tr style=\"text-align: right;\">\n",
       "      <th></th>\n",
       "      <th>team</th>\n",
       "      <th>opp</th>\n",
       "      <th>mp</th>\n",
       "      <th>fg</th>\n",
       "      <th>fga</th>\n",
       "      <th>fgp</th>\n",
       "      <th>three</th>\n",
       "      <th>threeatt</th>\n",
       "      <th>threep</th>\n",
       "      <th>ft</th>\n",
       "      <th>...</th>\n",
       "      <th>trb</th>\n",
       "      <th>ast</th>\n",
       "      <th>stl</th>\n",
       "      <th>blk</th>\n",
       "      <th>tov</th>\n",
       "      <th>pts</th>\n",
       "      <th>game_score</th>\n",
       "      <th>plus_minus</th>\n",
       "      <th>result_</th>\n",
       "      <th>age_</th>\n",
       "    </tr>\n",
       "    <tr>\n",
       "      <th>date</th>\n",
       "      <th></th>\n",
       "      <th></th>\n",
       "      <th></th>\n",
       "      <th></th>\n",
       "      <th></th>\n",
       "      <th></th>\n",
       "      <th></th>\n",
       "      <th></th>\n",
       "      <th></th>\n",
       "      <th></th>\n",
       "      <th></th>\n",
       "      <th></th>\n",
       "      <th></th>\n",
       "      <th></th>\n",
       "      <th></th>\n",
       "      <th></th>\n",
       "      <th></th>\n",
       "      <th></th>\n",
       "      <th></th>\n",
       "      <th></th>\n",
       "      <th></th>\n",
       "    </tr>\n",
       "  </thead>\n",
       "  <tbody>\n",
       "    <tr>\n",
       "      <th>2017-11-03</th>\n",
       "      <td>CLE</td>\n",
       "      <td>WAS</td>\n",
       "      <td>43</td>\n",
       "      <td>23</td>\n",
       "      <td>34</td>\n",
       "      <td>0.676</td>\n",
       "      <td>2</td>\n",
       "      <td>4</td>\n",
       "      <td>0.5</td>\n",
       "      <td>9</td>\n",
       "      <td>...</td>\n",
       "      <td>11</td>\n",
       "      <td>7</td>\n",
       "      <td>3</td>\n",
       "      <td>2</td>\n",
       "      <td>3</td>\n",
       "      <td>57</td>\n",
       "      <td>53.2</td>\n",
       "      <td>6</td>\n",
       "      <td>W</td>\n",
       "      <td>32</td>\n",
       "    </tr>\n",
       "  </tbody>\n",
       "</table>\n",
       "<p>1 rows × 24 columns</p>\n",
       "</div>"
      ],
      "text/plain": [
       "           team  opp  mp  fg  fga    fgp  three  threeatt  threep  ft  ...  \\\n",
       "date                                                                   ...   \n",
       "2017-11-03  CLE  WAS  43  23   34  0.676      2         4     0.5   9  ...   \n",
       "\n",
       "            trb  ast  stl  blk  tov  pts  game_score  plus_minus  result_  \\\n",
       "date                                                                        \n",
       "2017-11-03   11    7    3    2    3   57        53.2           6        W   \n",
       "\n",
       "            age_  \n",
       "date              \n",
       "2017-11-03    32  \n",
       "\n",
       "[1 rows x 24 columns]"
      ]
     },
     "execution_count": 128,
     "metadata": {},
     "output_type": "execute_result"
    }
   ],
   "source": [
    "df.loc[df['game_score']==53.2] #legsikeresebb meccse"
   ]
  },
  {
   "cell_type": "code",
   "execution_count": 129,
   "metadata": {},
   "outputs": [],
   "source": [
    "df['result_'] = df['result_'].map({'W':1, 'L':0}).astype(float) #értékeket 0 és 1-re cseréltem a logisztikus regresszióhoz"
   ]
  },
  {
   "cell_type": "code",
   "execution_count": 130,
   "metadata": {},
   "outputs": [],
   "source": [
    "corr = df.corr()[\"result_\"]"
   ]
  },
  {
   "cell_type": "code",
   "execution_count": 131,
   "metadata": {},
   "outputs": [
    {
     "data": {
      "text/plain": [
       "mp           -0.142195\n",
       "fg            0.109045\n",
       "fga          -0.100737\n",
       "fgp           0.280702\n",
       "three         0.039254\n",
       "threeatt     -0.099283\n",
       "threep        0.094727\n",
       "ft            0.063706\n",
       "fta           0.022504\n",
       "ftp           0.089112\n",
       "orb          -0.035589\n",
       "drb           0.108384\n",
       "trb           0.083669\n",
       "ast           0.175665\n",
       "stl           0.096319\n",
       "blk           0.059689\n",
       "tov          -0.161988\n",
       "pts           0.120713\n",
       "game_score    0.309864\n",
       "plus_minus    0.719796\n",
       "result_       1.000000\n",
       "age_          0.090347\n",
       "Name: result_, dtype: float64"
      ]
     },
     "execution_count": 131,
     "metadata": {},
     "output_type": "execute_result"
    }
   ],
   "source": [
    "corr"
   ]
  },
  {
   "cell_type": "code",
   "execution_count": 132,
   "metadata": {},
   "outputs": [],
   "source": [
    "from sklearn.preprocessing import StandardScaler\n",
    "from sklearn.linear_model import LogisticRegression\n",
    "from sklearn.metrics import accuracy_score\n",
    "from sklearn.metrics import classification_report"
   ]
  },
  {
   "cell_type": "code",
   "execution_count": 133,
   "metadata": {},
   "outputs": [],
   "source": [
    "training_features = df[['mp','fg','fga', 'fgp', 'three','threeatt','threep', 'ft','fta','ftp','orb','drb','trb','ast',\n",
    "                        'stl','blk','tov','pts','game_score','plus_minus']] \n",
    "\n",
    "outcome_labels = df[['result_']]"
   ]
  },
  {
   "cell_type": "code",
   "execution_count": 134,
   "metadata": {},
   "outputs": [],
   "source": [
    "ss = StandardScaler() #StandardScaler objektum"
   ]
  },
  {
   "cell_type": "code",
   "execution_count": 135,
   "metadata": {},
   "outputs": [
    {
     "data": {
      "text/plain": [
       "StandardScaler()"
      ]
     },
     "execution_count": 135,
     "metadata": {},
     "output_type": "execute_result"
    }
   ],
   "source": [
    "ss.fit(training_features) #Illessztés az adatokra"
   ]
  },
  {
   "cell_type": "code",
   "execution_count": 136,
   "metadata": {},
   "outputs": [],
   "source": [
    "\n",
    "training_features = ss.transform(training_features) #Transzformáljuk az adatokat a scaler szerint\n"
   ]
  },
  {
   "cell_type": "code",
   "execution_count": 137,
   "metadata": {},
   "outputs": [],
   "source": [
    "lr = LogisticRegression() #Regresszor létrehozása"
   ]
  },
  {
   "cell_type": "code",
   "execution_count": 138,
   "metadata": {},
   "outputs": [],
   "source": [
    "model = lr.fit(training_features, np.array(outcome_labels['result_'])) #Függvény illesztése "
   ]
  },
  {
   "cell_type": "code",
   "execution_count": 139,
   "metadata": {},
   "outputs": [
    {
     "name": "stdout",
     "output_type": "stream",
     "text": [
      "Accuracy: 89.32806324110672 %\n",
      "Classification Stats:\n",
      "              precision    recall  f1-score   support\n",
      "\n",
      "         0.0       0.85      0.82      0.84       426\n",
      "         1.0       0.91      0.93      0.92       839\n",
      "\n",
      "    accuracy                           0.89      1265\n",
      "   macro avg       0.88      0.88      0.88      1265\n",
      "weighted avg       0.89      0.89      0.89      1265\n",
      "\n"
     ]
    }
   ],
   "source": [
    "pred_labels = model.predict(training_features)      #értékelés a training adatokon\n",
    "actual_labels = np.array(outcome_labels['result_'])\n",
    "\n",
    "print('Accuracy:', float(accuracy_score(actual_labels, pred_labels))*100, '%')\n",
    "print('Classification Stats:')\n",
    "print(classification_report(actual_labels, pred_labels))"
   ]
  },
  {
   "cell_type": "code",
   "execution_count": 140,
   "metadata": {},
   "outputs": [
    {
     "name": "stdout",
     "output_type": "stream",
     "text": [
      "Konfúziós mátrix: \n",
      " [[351  75]\n",
      " [ 60 779]]\n"
     ]
    }
   ],
   "source": [
    "from sklearn.metrics import confusion_matrix    #Konfúziós mátrix\n",
    "print('Konfúziós mátrix:', '\\n', confusion_matrix(outcome_labels,pred_labels))"
   ]
  },
  {
   "cell_type": "code",
   "execution_count": 141,
   "metadata": {},
   "outputs": [
    {
     "data": {
      "image/png": "[encoded data removed]",
      "text/plain": [
       "<Figure size 432x288 with 1 Axes>"
      ]
     },
     "metadata": {},
     "output_type": "display_data"
    }
   ],
   "source": [
    "import seaborn as sns; sns.set()             #Ábrázolás\n",
    "mat = confusion_matrix(outcome_labels,pred_labels)\n",
    "sns.heatmap(mat.T, square=True, annot=True, fmt='d', cbar=False)\n",
    "plt.xlabel('true label')\n",
    "plt.ylabel('predicted label');"
   ]
  },
  {
   "cell_type": "code",
   "execution_count": null,
   "metadata": {},
   "outputs": [],
   "source": []
  }
 ],
 "metadata": {
  "kernelspec": {
   "display_name": "Python 3",
   "language": "python",
   "name": "python3"
  },
  "language_info": {
   "codemirror_mode": {
    "name": "ipython",
    "version": 3
   },
   "file_extension": ".py",
   "mimetype": "text/x-python",
   "name": "python",
   "nbconvert_exporter": "python",
   "pygments_lexer": "ipython3",
   "version": "3.8.3"
  }
 },
 "nbformat": 4,
 "nbformat_minor": 4
}
